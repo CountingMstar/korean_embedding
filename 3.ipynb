{
 "cells": [
  {
   "cell_type": "code",
   "execution_count": 12,
   "metadata": {},
   "outputs": [
    {
     "data": {
      "text/plain": [
       "'\\n지도 학습 기반 형태소 분석\\n'"
      ]
     },
     "execution_count": 12,
     "metadata": {},
     "output_type": "execute_result"
    }
   ],
   "source": [
    "\"\"\"\n",
    "지도 학습 기반 형태소 분석\n",
    "\"\"\""
   ]
  },
  {
   "cell_type": "code",
   "execution_count": 13,
   "metadata": {},
   "outputs": [
    {
     "data": {
      "text/plain": [
       "['아버지', '가', '방', '에', '들어가', '신다', '.']"
      ]
     },
     "execution_count": 13,
     "metadata": {},
     "output_type": "execute_result"
    }
   ],
   "source": [
    "\"\"\"\n",
    "KoNLPy\n",
    "\"\"\"\n",
    "\n",
    "# 은전한닢\n",
    "from konlpy.tag import Mecab\n",
    "tokenizer = Mecab()\n",
    "\n",
    "# 형태소 분석\n",
    "tokenizer.morphs(\"아버지가방에들어가신다.\")"
   ]
  },
  {
   "cell_type": "code",
   "execution_count": 14,
   "metadata": {},
   "outputs": [
    {
     "data": {
      "text/plain": [
       "[('아버지', 'NNG'),\n",
       " ('가', 'JKS'),\n",
       " ('방', 'NNG'),\n",
       " ('에', 'JKB'),\n",
       " ('들어가', 'VV'),\n",
       " ('신다', 'EP+EF'),\n",
       " ('.', 'SF')]"
      ]
     },
     "execution_count": 14,
     "metadata": {},
     "output_type": "execute_result"
    }
   ],
   "source": [
    "tokenizer.pos(\"아버지가방에들어가신다.\")"
   ]
  },
  {
   "cell_type": "code",
   "execution_count": 21,
   "metadata": {},
   "outputs": [
    {
     "data": {
      "text/plain": [
       "'\\n비지도 학습 기반 형태소 분석\\n'"
      ]
     },
     "execution_count": 21,
     "metadata": {},
     "output_type": "execute_result"
    }
   ],
   "source": [
    "\"\"\"\n",
    "비지도 학습 기반 형태소 분석\n",
    "\"\"\""
   ]
  },
  {
   "cell_type": "code",
   "execution_count": 23,
   "metadata": {},
   "outputs": [],
   "source": [
    "\"\"\"\n",
    "soynlp 형태소 분석기\n",
    "\"\"\"\n",
    "from soynlp.word import WordExtractor"
   ]
  },
  {
   "cell_type": "code",
   "execution_count": 24,
   "metadata": {},
   "outputs": [],
   "source": [
    "# soynlp 단어 점수 학습\n",
    "corpus_fname = '/home/moonstar/python/NLP/embedding/embedding/data/processed/processed_ratings.txt'\n",
    "model_fname = '/home/moonstar/python/NLP/embedding/embedding/data/processed/soyword.model'"
   ]
  },
  {
   "cell_type": "code",
   "execution_count": 26,
   "metadata": {},
   "outputs": [
    {
     "data": {
      "text/plain": [
       "['어릴때보고 지금다시봐도 재밌어요ㅋㅋ',\n",
       " '디자인을 배우는 학생으로, 외국디자이너와 그들이 일군 전통을 통해 발전해가는 문화산업이 부러웠는데. 사실 우리나라에서도 그 어려운시절에 끝까지 열정을 지킨 노라노 같은 전통이있어 저와 같은 사람들이 꿈을 꾸고 이뤄나갈 수 있다는 것에 감사합니다.',\n",
       " '폴리스스토리 시리즈는 1부터 뉴까지 버릴께 하나도 없음.. 최고.',\n",
       " '와.. 연기가 진짜 개쩔구나.. 지루할거라고 생각했는데 몰입해서 봤다.. 그래 이런게 진짜 영화지',\n",
       " '안개 자욱한 밤하늘에 떠 있는 초승달 같은 영화.',\n",
       " '사랑을 해본사람이라면 처음부터 끝까지 웃을수 있는영화',\n",
       " '완전 감동입니다 다시봐도 감동',\n",
       " '개들의 전쟁2 나오나요? 나오면 1빠로 보고 싶음',\n",
       " '굿',\n",
       " '바보가 아니라 병 쉰 인듯']"
      ]
     },
     "execution_count": 26,
     "metadata": {},
     "output_type": "execute_result"
    }
   ],
   "source": [
    "sentences = [sent.strip() for sent in open(corpus_fname, 'r').readlines()]\n",
    "sentences[:10]"
   ]
  },
  {
   "cell_type": "code",
   "execution_count": 27,
   "metadata": {},
   "outputs": [],
   "source": [
    "word_extractor = WordExtractor(min_frequency=100, min_cohesion_forward=0.05, min_right_branching_entropy=0.0)"
   ]
  },
  {
   "cell_type": "code",
   "execution_count": 28,
   "metadata": {},
   "outputs": [
    {
     "name": "stdout",
     "output_type": "stream",
     "text": [
      "training was done. used memory 0.811 Gbse memory 0.581 Gb\n"
     ]
    }
   ],
   "source": [
    "word_extractor.train(sentences)\n",
    "word_extractor.save(model_fname)"
   ]
  },
  {
   "cell_type": "code",
   "execution_count": 29,
   "metadata": {},
   "outputs": [],
   "source": [
    "# sonlp 형태소 분석\n",
    "import math\n",
    "from soynlp.word import WordExtractor\n",
    "from soynlp.tokenizer import LTokenizer"
   ]
  },
  {
   "cell_type": "code",
   "execution_count": 31,
   "metadata": {},
   "outputs": [
    {
     "name": "stdout",
     "output_type": "stream",
     "text": [
      "all cohesion probabilities was computed. # words = 6130\n",
      "all branching entropies was computed # words = 123575\n",
      "all accessor variety was computed # words = 123575\n",
      "['애비는', '종이었다.']\n"
     ]
    }
   ],
   "source": [
    "model_fname = '/home/moonstar/python/NLP/embedding/embedding/data/processed/soyword.model'\n",
    "\n",
    "word_extractor = WordExtractor(min_frequency=100, min_cohesion_forward=0.05, min_right_branching_entropy=0.0)\n",
    "word_extractor.load(model_fname)\n",
    "scores = word_extractor.word_scores()\n",
    "scores = {key:(scores[key].cohesion_forward*math.exp(scores[key].right_branching_entropy)) for key in scores.keys()}\n",
    "tokenizer = LTokenizer(scores=scores)\n",
    "tokens = tokenizer.tokenize(\"애비는 종이었다.\")\n",
    "print(tokens)"
   ]
  },
  {
   "cell_type": "code",
   "execution_count": null,
   "metadata": {},
   "outputs": [],
   "source": []
  }
 ],
 "metadata": {
  "kernelspec": {
   "display_name": "Python 3.7.13 ('pytorch')",
   "language": "python",
   "name": "python3"
  },
  "language_info": {
   "codemirror_mode": {
    "name": "ipython",
    "version": 3
   },
   "file_extension": ".py",
   "mimetype": "text/x-python",
   "name": "python",
   "nbconvert_exporter": "python",
   "pygments_lexer": "ipython3",
   "version": "3.7.13"
  },
  "orig_nbformat": 4,
  "vscode": {
   "interpreter": {
    "hash": "8d043f4dea073442cd267471bf30c46004563c9415419567b38c826b8ca735d1"
   }
  }
 },
 "nbformat": 4,
 "nbformat_minor": 2
}
